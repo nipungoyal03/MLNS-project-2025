{
 "cells": [
  {
   "cell_type": "code",
   "execution_count": 33,
   "id": "55bc767a",
   "metadata": {},
   "outputs": [],
   "source": [
    "import torch\n",
    "import torch.nn as nn\n",
    "import torch.nn.functional as F\n",
    "\n",
    "class RBMWavefunction(nn.Module):\n",
    "    def __init__(self, n_visible, n_hidden):\n",
    "        super().__init__()\n",
    "        self.W = nn.Parameter(torch.empty(n_visible, n_hidden))\n",
    "        nn.init.normal_(self.W, std=0.01)  # Smaller initial weights\n",
    "        self.a = nn.Parameter(torch.zeros(n_visible))\n",
    "        self.b = nn.Parameter(torch.zeros(n_hidden))\n",
    "             # better init\n",
    "\n",
    "    def forward(self, v):\n",
    "        # Input: v - shape (batch_size, n_visible), values ±1\n",
    "        linear_term = torch.matmul(v, self.a)\n",
    "        activation = torch.matmul(v, self.W) + self.b\n",
    "        hidden_term = torch.sum(torch.log(torch.cosh(activation + 1e-7)), dim=1)\n",
    "        return linear_term + hidden_term\n",
    "\n",
    "    def psi(self, v):\n",
    "        log_psi = self.forward(v)\n",
    "        # Subtract max for numerical stability\n",
    "        return torch.exp(log_psi - log_psi.max())  # wavefunction amplitude\n"
   ]
  },
  {
   "cell_type": "code",
   "execution_count": 34,
   "id": "bfc9ebca",
   "metadata": {},
   "outputs": [],
   "source": [
    "def ising_energy(configs):\n",
    "    \"\"\"\n",
    "    Compute Ising energy for each spin configuration in the batch.\n",
    "    E = -sum(s_i * s_{i+1}) with periodic boundary conditions\n",
    "    Input: configs - shape (batch_size, n_spins)\n",
    "    Output: energy - shape (batch_size,)\n",
    "    \"\"\"\n",
    "    return -torch.sum(configs * torch.roll(configs, shifts=-1, dims=1), dim=1)\n"
   ]
  },
  {
   "cell_type": "code",
   "execution_count": 35,
   "id": "2e672610",
   "metadata": {},
   "outputs": [],
   "source": [
    "def metropolis_sampler(rbm, initial_config, n_steps=50):\n",
    "    config = initial_config.clone().detach()\n",
    "\n",
    "    for step in range(n_steps):\n",
    "        proposal = config.clone()\n",
    "        flip_indices = torch.randint(0, config.shape[1], (config.shape[0],))\n",
    "\n",
    "        for i in range(config.shape[0]):\n",
    "            proposal[i, flip_indices[i]] *= -1  # Flip one spin\n",
    "\n",
    "        log_prob_old = rbm.forward(config)\n",
    "        log_prob_new = rbm.forward(proposal)\n",
    "        accept_ratio = torch.exp(log_prob_new - log_prob_old)\n",
    "\n",
    "        rand = torch.rand(config.shape[0])\n",
    "        accept = (rand < accept_ratio).to(torch.float32).unsqueeze(1)\n",
    "\n",
    "        config = accept * proposal + (1 - accept) * config\n",
    "\n",
    "    return config.to(torch.float32)\n"
   ]
  },
  {
   "cell_type": "code",
   "execution_count": 36,
   "id": "0d1d61d8",
   "metadata": {},
   "outputs": [],
   "source": [
    "def train_rbm(rbm, n_epochs=500, batch_size=200, lr=1e-2, n_spins=10):\n",
    "    optimizer = torch.optim.Adam(rbm.parameters(), lr=lr)\n",
    "    config = (torch.randint(0, 2, (batch_size, n_spins)) * 2 - 1).float()\n",
    "\n",
    "    for epoch in range(n_epochs):\n",
    "        samples = metropolis_sampler(rbm, config, n_steps=40)\n",
    "        config = samples.detach()\n",
    "\n",
    "        log_psi = rbm.forward(samples)\n",
    "        energies = ising_energy(samples)\n",
    "        \n",
    "        # Stable psi calculation\n",
    "        max_log_psi = log_psi.max()\n",
    "        psi_values = torch.exp(log_psi - max_log_psi)\n",
    "        \n",
    "        # Energy calculation with detached values\n",
    "        with torch.no_grad():\n",
    "            local_energies = energies * psi_values\n",
    "        \n",
    "        loss = (local_energies * psi_values).mean()\n",
    "\n",
    "        optimizer.zero_grad()\n",
    "        loss.backward()\n",
    "        torch.nn.utils.clip_grad_norm_(rbm.parameters(), 1.0)\n",
    "        optimizer.step()\n",
    "\n",
    "        if epoch % 50 == 0:\n",
    "            print(f\"[Epoch {epoch:03d}] Energy: {loss.item():.4f}\")\n"
   ]
  },
  {
   "cell_type": "code",
   "execution_count": 37,
   "id": "cd4e55d8",
   "metadata": {},
   "outputs": [
    {
     "name": "stdout",
     "output_type": "stream",
     "text": [
      "[Epoch 000] Energy: 0.3111\n",
      "[Epoch 050] Energy: -0.4895\n",
      "[Epoch 100] Energy: -0.5959\n",
      "[Epoch 150] Energy: -0.4922\n",
      "[Epoch 200] Energy: -0.5252\n",
      "[Epoch 250] Energy: -0.6144\n",
      "[Epoch 300] Energy: -0.6607\n",
      "[Epoch 350] Energy: -0.7113\n",
      "[Epoch 400] Energy: -0.6936\n",
      "[Epoch 450] Energy: -0.8681\n"
     ]
    }
   ],
   "source": [
    "n_spins = 10\n",
    "n_hidden = 20\n",
    "\n",
    "rbm = RBMWavefunction(n_visible=n_spins, n_hidden=n_hidden)\n",
    "train_rbm(rbm, n_epochs=500, batch_size=200, lr=1e-2, n_spins=n_spins)\n"
   ]
  },
  {
   "cell_type": "code",
   "execution_count": 38,
   "id": "14c573aa",
   "metadata": {},
   "outputs": [],
   "source": [
    "test_samples = metropolis_sampler(rbm, (torch.randint(0, 2, (100, n_spins)) * 2 - 1).float())\n",
    "\n",
    "psi_values = rbm.psi(test_samples) "
   ]
  },
  {
   "cell_type": "code",
   "execution_count": 39,
   "id": "13f68307",
   "metadata": {},
   "outputs": [],
   "source": [
    "def export_wavefunction_data(rbm, n_samples=1000, n_spins=10, export_path=\"wavefunction_data.csv\"):\n",
    "    init = torch.randint(0, 2, (n_samples, n_spins)) * 2 - 1\n",
    "    samples = metropolis_sampler(rbm, init.float())\n",
    "    \n",
    "    with torch.no_grad():\n",
    "        log_psi = rbm.forward(samples)\n",
    "        max_log = log_psi.max()\n",
    "        psi_sq = torch.exp(2*(log_psi - max_log)).numpy()  # Proper |ψ|² calculation\n",
    "    \n",
    "    samples_np = samples.numpy()\n",
    "    df = pd.DataFrame(samples_np, columns=[f\"s_{i}\" for i in range(n_spins)])\n",
    "    df[\"psi_squared\"] = psi_sq\n",
    "    df.to_csv(export_path, index=False)\n"
   ]
  },
  {
   "cell_type": "code",
   "execution_count": 40,
   "id": "55c863f8",
   "metadata": {},
   "outputs": [],
   "source": [
    "# After training the RBM\n",
    "export_wavefunction_data(rbm, n_samples=2000, n_spins=n_spins, export_path=\"rbm_wavefunction_data.csv\")\n"
   ]
  },
  {
   "cell_type": "code",
   "execution_count": null,
   "id": "c0bf87ab",
   "metadata": {},
   "outputs": [],
   "source": []
  },
  {
   "cell_type": "code",
   "execution_count": null,
   "id": "2844c049",
   "metadata": {},
   "outputs": [],
   "source": []
  },
  {
   "cell_type": "code",
   "execution_count": null,
   "id": "29195121",
   "metadata": {},
   "outputs": [],
   "source": []
  },
  {
   "cell_type": "code",
   "execution_count": null,
   "id": "55070dc3",
   "metadata": {},
   "outputs": [],
   "source": []
  },
  {
   "cell_type": "code",
   "execution_count": null,
   "id": "b4d2635a",
   "metadata": {},
   "outputs": [],
   "source": []
  }
 ],
 "metadata": {
  "kernelspec": {
   "display_name": "Python 3 (ipykernel)",
   "language": "python",
   "name": "python3"
  },
  "language_info": {
   "codemirror_mode": {
    "name": "ipython",
    "version": 3
   },
   "file_extension": ".py",
   "mimetype": "text/x-python",
   "name": "python",
   "nbconvert_exporter": "python",
   "pygments_lexer": "ipython3",
   "version": "3.9.12"
  }
 },
 "nbformat": 4,
 "nbformat_minor": 5
}
